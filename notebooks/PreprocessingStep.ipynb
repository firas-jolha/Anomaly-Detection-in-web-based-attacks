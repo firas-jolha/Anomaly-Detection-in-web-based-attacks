{
  "nbformat": 4,
  "nbformat_minor": 0,
  "metadata": {
    "colab": {
      "name": "DouhaPreprocessingStep.ipynb",
      "provenance": [],
      "collapsed_sections": []
    },
    "kernelspec": {
      "name": "python3",
      "display_name": "Python 3"
    },
    "language_info": {
      "name": "python"
    }
  },
  "cells": [
    {
      "cell_type": "markdown",
      "source": [
        "# Packages"
      ],
      "metadata": {
        "id": "ebfvolDR4Gdk"
      }
    },
    {
      "cell_type": "code",
      "execution_count": null,
      "metadata": {
        "id": "1zxXhcqs3tKZ"
      },
      "outputs": [],
      "source": [
        "import numpy as np\n",
        "import matplotlib.pyplot as plt\n",
        "import pandas as pd\n",
        "from sklearn.compose import ColumnTransformer\n",
        "from sklearn.preprocessing import OneHotEncoder\n",
        "from sklearn.preprocessing import LabelEncoder\n",
        "from sklearn.preprocessing import StandardScaler, RobustScaler\n",
        "from sklearn.impute import SimpleImputer\n",
        "\n",
        "from sklearn.model_selection import train_test_split\n",
        "\n",
        "import requests\n"
      ]
    },
    {
      "cell_type": "markdown",
      "source": [
        "# Data"
      ],
      "metadata": {
        "id": "8LmIZFk861aS"
      }
    },
    {
      "cell_type": "markdown",
      "source": [
        "## import"
      ],
      "metadata": {
        "id": "-w8fGGcI9qs2"
      }
    },
    {
      "cell_type": "markdown",
      "source": [
        "Download and unzip the data"
      ],
      "metadata": {
        "id": "WRRBlpjlCgw_"
      }
    },
    {
      "cell_type": "code",
      "source": [
        "dataset_url = \"http://205.174.165.80/CICDataset/NSL-KDD/Dataset/NSL-KDD.zip\"\n",
        "r = requests.get(dataset_url, allow_redirects=True)\n",
        "open('data.zip', 'wb').write(r.content)\n",
        "\n",
        "!unzip data.zip -d data"
      ],
      "metadata": {
        "colab": {
          "base_uri": "https://localhost:8080/"
        },
        "id": "Mp_TCvoMBUvG",
        "outputId": "5146af95-b7da-4f55-83a0-7b18119867cb"
      },
      "execution_count": null,
      "outputs": [
        {
          "output_type": "error",
          "ename": "NameError",
          "evalue": "ignored",
          "traceback": [
            "\u001b[0;31m---------------------------------------------------------------------------\u001b[0m",
            "\u001b[0;31mNameError\u001b[0m                                 Traceback (most recent call last)",
            "\u001b[0;32m<ipython-input-1-6fecc73413d1>\u001b[0m in \u001b[0;36m<module>\u001b[0;34m()\u001b[0m\n\u001b[1;32m      1\u001b[0m \u001b[0mdataset_url\u001b[0m \u001b[0;34m=\u001b[0m \u001b[0;34m\"http://205.174.165.80/CICDataset/NSL-KDD/Dataset/NSL-KDD.zip\"\u001b[0m\u001b[0;34m\u001b[0m\u001b[0;34m\u001b[0m\u001b[0m\n\u001b[0;32m----> 2\u001b[0;31m \u001b[0mr\u001b[0m \u001b[0;34m=\u001b[0m \u001b[0mrequests\u001b[0m\u001b[0;34m.\u001b[0m\u001b[0mget\u001b[0m\u001b[0;34m(\u001b[0m\u001b[0mdataset_url\u001b[0m\u001b[0;34m,\u001b[0m \u001b[0mallow_redirects\u001b[0m\u001b[0;34m=\u001b[0m\u001b[0;32mTrue\u001b[0m\u001b[0;34m)\u001b[0m\u001b[0;34m\u001b[0m\u001b[0;34m\u001b[0m\u001b[0m\n\u001b[0m\u001b[1;32m      3\u001b[0m \u001b[0mopen\u001b[0m\u001b[0;34m(\u001b[0m\u001b[0;34m'data.zip'\u001b[0m\u001b[0;34m,\u001b[0m \u001b[0;34m'wb'\u001b[0m\u001b[0;34m)\u001b[0m\u001b[0;34m.\u001b[0m\u001b[0mwrite\u001b[0m\u001b[0;34m(\u001b[0m\u001b[0mr\u001b[0m\u001b[0;34m.\u001b[0m\u001b[0mcontent\u001b[0m\u001b[0;34m)\u001b[0m\u001b[0;34m\u001b[0m\u001b[0;34m\u001b[0m\u001b[0m\n\u001b[1;32m      4\u001b[0m \u001b[0;34m\u001b[0m\u001b[0m\n\u001b[1;32m      5\u001b[0m \u001b[0mget_ipython\u001b[0m\u001b[0;34m(\u001b[0m\u001b[0;34m)\u001b[0m\u001b[0;34m.\u001b[0m\u001b[0msystem\u001b[0m\u001b[0;34m(\u001b[0m\u001b[0;34m'unzip data.zip -d data'\u001b[0m\u001b[0;34m)\u001b[0m\u001b[0;34m\u001b[0m\u001b[0;34m\u001b[0m\u001b[0m\n",
            "\u001b[0;31mNameError\u001b[0m: name 'requests' is not defined"
          ]
        }
      ]
    },
    {
      "cell_type": "markdown",
      "source": [
        "Read the data"
      ],
      "metadata": {
        "id": "pPZuZuhQCzFO"
      }
    },
    {
      "cell_type": "code",
      "source": [
        "train_data = pd.read_csv(\"data/KDDTrain+.txt\")\n",
        "test_data = pd.read_csv(\"data/KDDTest+.txt\")\n",
        "train_data.shape, test_data.shape"
      ],
      "metadata": {
        "colab": {
          "base_uri": "https://localhost:8080/"
        },
        "id": "-TChBO9vCmTK",
        "outputId": "414aabaa-69fd-4857-fa77-6278bd4906e1"
      },
      "execution_count": null,
      "outputs": [
        {
          "output_type": "execute_result",
          "data": {
            "text/plain": [
              "((125972, 43), (22543, 43))"
            ]
          },
          "metadata": {},
          "execution_count": 3
        }
      ]
    },
    {
      "cell_type": "code",
      "source": [
        "# from google.colab import drive\n",
        "# drive.mount(\"/content/drive\")"
      ],
      "metadata": {
        "id": "UdRlSUOn59Bk"
      },
      "execution_count": null,
      "outputs": []
    },
    {
      "cell_type": "code",
      "source": [
        "\n",
        "# Dataset = pd.read_csv(\"/content/drive/MyDrive/data/NSL_train.csv\")"
      ],
      "metadata": {
        "id": "GMNMzmB05_7v"
      },
      "execution_count": null,
      "outputs": []
    },
    {
      "cell_type": "markdown",
      "source": [
        "Separate the data from labels"
      ],
      "metadata": {
        "id": "DG3sI974DVA1"
      }
    },
    {
      "cell_type": "code",
      "source": [
        "X_train = train_data.iloc[:, :-2]\n",
        "y_train = train_data.iloc[:, -2]\n",
        "\n",
        "X_test = test_data.iloc[:, :-2]\n",
        "y_test = test_data.iloc[:, -2]\n",
        "\n",
        "\n",
        "X_train.shape, y_train.shape, X_test.shape, y_test.shape"
      ],
      "metadata": {
        "id": "KlY8cBkX6DDD",
        "colab": {
          "base_uri": "https://localhost:8080/"
        },
        "outputId": "ee27a1ee-340f-4481-8caa-8b0a86bedfa2"
      },
      "execution_count": null,
      "outputs": [
        {
          "output_type": "execute_result",
          "data": {
            "text/plain": [
              "((125972, 41), (125972,), (22543, 41), (22543,))"
            ]
          },
          "metadata": {},
          "execution_count": 80
        }
      ]
    },
    {
      "cell_type": "markdown",
      "source": [
        "Explore the data"
      ],
      "metadata": {
        "id": "tYyoeYosHLrd"
      }
    },
    {
      "cell_type": "code",
      "source": [
        "X_train.info()"
      ],
      "metadata": {
        "colab": {
          "base_uri": "https://localhost:8080/"
        },
        "id": "G2C_Ig8KHNmS",
        "outputId": "fe4846fd-fed6-4408-bb40-57e55500eee2"
      },
      "execution_count": null,
      "outputs": [
        {
          "output_type": "stream",
          "name": "stdout",
          "text": [
            "<class 'pandas.core.frame.DataFrame'>\n",
            "RangeIndex: 125972 entries, 0 to 125971\n",
            "Data columns (total 41 columns):\n",
            " #   Column    Non-Null Count   Dtype  \n",
            "---  ------    --------------   -----  \n",
            " 0   0         125972 non-null  int64  \n",
            " 1   tcp       125972 non-null  object \n",
            " 2   ftp_data  125972 non-null  object \n",
            " 3   SF        125972 non-null  object \n",
            " 4   491       125972 non-null  int64  \n",
            " 5   0.1       125972 non-null  int64  \n",
            " 6   0.2       125972 non-null  int64  \n",
            " 7   0.3       125972 non-null  int64  \n",
            " 8   0.4       125972 non-null  int64  \n",
            " 9   0.5       125972 non-null  int64  \n",
            " 10  0.6       125972 non-null  int64  \n",
            " 11  0.7       125972 non-null  int64  \n",
            " 12  0.8       125972 non-null  int64  \n",
            " 13  0.9       125972 non-null  int64  \n",
            " 14  0.10      125972 non-null  int64  \n",
            " 15  0.11      125972 non-null  int64  \n",
            " 16  0.12      125972 non-null  int64  \n",
            " 17  0.13      125972 non-null  int64  \n",
            " 18  0.14      125972 non-null  int64  \n",
            " 19  0.15      125972 non-null  int64  \n",
            " 20  0.16      125972 non-null  int64  \n",
            " 21  0.17      125972 non-null  int64  \n",
            " 22  2         125972 non-null  int64  \n",
            " 23  2.1       125972 non-null  int64  \n",
            " 24  0.00      125972 non-null  float64\n",
            " 25  0.00.1    125972 non-null  float64\n",
            " 26  0.00.2    125972 non-null  float64\n",
            " 27  0.00.3    125972 non-null  float64\n",
            " 28  1.00      125972 non-null  float64\n",
            " 29  0.00.4    125972 non-null  float64\n",
            " 30  0.00.5    125972 non-null  float64\n",
            " 31  150       125972 non-null  int64  \n",
            " 32  25        125972 non-null  int64  \n",
            " 33  0.17.1    125972 non-null  float64\n",
            " 34  0.03      125972 non-null  float64\n",
            " 35  0.17.2    125972 non-null  float64\n",
            " 36  0.00.6    125972 non-null  float64\n",
            " 37  0.00.7    125972 non-null  float64\n",
            " 38  0.00.8    125972 non-null  float64\n",
            " 39  0.05      125972 non-null  float64\n",
            " 40  0.00.9    125972 non-null  float64\n",
            "dtypes: float64(15), int64(23), object(3)\n",
            "memory usage: 39.4+ MB\n"
          ]
        }
      ]
    },
    {
      "cell_type": "code",
      "source": [
        "v = X_train.iloc[:,-1].unique()\n",
        "v.sort()\n",
        "v"
      ],
      "metadata": {
        "colab": {
          "base_uri": "https://localhost:8080/"
        },
        "id": "ClBDhLxdHt82",
        "outputId": "31dc40c7-32b5-4142-8d2b-3dd5ac948394"
      },
      "execution_count": null,
      "outputs": [
        {
          "output_type": "execute_result",
          "data": {
            "text/plain": [
              "array([0.  , 0.01, 0.02, 0.03, 0.04, 0.05, 0.06, 0.07, 0.08, 0.09, 0.1 ,\n",
              "       0.11, 0.12, 0.13, 0.14, 0.15, 0.16, 0.17, 0.18, 0.19, 0.2 , 0.21,\n",
              "       0.22, 0.23, 0.24, 0.25, 0.26, 0.27, 0.28, 0.29, 0.3 , 0.31, 0.32,\n",
              "       0.33, 0.34, 0.35, 0.36, 0.37, 0.38, 0.39, 0.4 , 0.41, 0.42, 0.43,\n",
              "       0.44, 0.45, 0.46, 0.47, 0.48, 0.49, 0.5 , 0.51, 0.52, 0.53, 0.54,\n",
              "       0.55, 0.56, 0.57, 0.58, 0.59, 0.6 , 0.61, 0.62, 0.63, 0.64, 0.65,\n",
              "       0.66, 0.67, 0.68, 0.69, 0.7 , 0.71, 0.72, 0.73, 0.74, 0.75, 0.76,\n",
              "       0.77, 0.78, 0.79, 0.8 , 0.81, 0.82, 0.83, 0.84, 0.85, 0.86, 0.87,\n",
              "       0.88, 0.89, 0.9 , 0.91, 0.92, 0.93, 0.94, 0.95, 0.96, 0.97, 0.98,\n",
              "       0.99, 1.  ])"
            ]
          },
          "metadata": {},
          "execution_count": 6
        }
      ]
    },
    {
      "cell_type": "code",
      "source": [
        "X_train.describe()"
      ],
      "metadata": {
        "colab": {
          "base_uri": "https://localhost:8080/",
          "height": 394
        },
        "id": "6MBferFMJ9WM",
        "outputId": "49298172-6dbe-4252-f63d-dbc17db63cd0"
      },
      "execution_count": null,
      "outputs": [
        {
          "output_type": "execute_result",
          "data": {
            "text/plain": [
              "                   0           491           0.1            0.2  \\\n",
              "count  125972.000000  1.259720e+05  1.259720e+05  125972.000000   \n",
              "mean      287.146929  4.556710e+04  1.977927e+04       0.000198   \n",
              "std      2604.525522  5.870354e+06  4.021285e+06       0.014086   \n",
              "min         0.000000  0.000000e+00  0.000000e+00       0.000000   \n",
              "25%         0.000000  0.000000e+00  0.000000e+00       0.000000   \n",
              "50%         0.000000  4.400000e+01  0.000000e+00       0.000000   \n",
              "75%         0.000000  2.760000e+02  5.160000e+02       0.000000   \n",
              "max     42908.000000  1.379964e+09  1.309937e+09       1.000000   \n",
              "\n",
              "                 0.3            0.4            0.5            0.6  \\\n",
              "count  125972.000000  125972.000000  125972.000000  125972.000000   \n",
              "mean        0.022688       0.000111       0.204411       0.001222   \n",
              "std         0.253531       0.014366       2.149977       0.045239   \n",
              "min         0.000000       0.000000       0.000000       0.000000   \n",
              "25%         0.000000       0.000000       0.000000       0.000000   \n",
              "50%         0.000000       0.000000       0.000000       0.000000   \n",
              "75%         0.000000       0.000000       0.000000       0.000000   \n",
              "max         3.000000       3.000000      77.000000       5.000000   \n",
              "\n",
              "                 0.7            0.8  ...            150             25  \\\n",
              "count  125972.000000  125972.000000  ...  125972.000000  125972.000000   \n",
              "mean        0.395739       0.279253  ...     182.149200     115.653725   \n",
              "std         0.489011      23.942137  ...      99.206565     110.702886   \n",
              "min         0.000000       0.000000  ...       0.000000       0.000000   \n",
              "25%         0.000000       0.000000  ...      82.000000      10.000000   \n",
              "50%         0.000000       0.000000  ...     255.000000      63.000000   \n",
              "75%         1.000000       0.000000  ...     255.000000     255.000000   \n",
              "max         1.000000    7479.000000  ...     255.000000     255.000000   \n",
              "\n",
              "              0.17.1           0.03         0.17.2         0.00.6  \\\n",
              "count  125972.000000  125972.000000  125972.000000  125972.000000   \n",
              "mean        0.521244       0.082952       0.148379       0.032543   \n",
              "std         0.448950       0.188922       0.308998       0.112564   \n",
              "min         0.000000       0.000000       0.000000       0.000000   \n",
              "25%         0.050000       0.000000       0.000000       0.000000   \n",
              "50%         0.510000       0.020000       0.000000       0.000000   \n",
              "75%         1.000000       0.070000       0.060000       0.020000   \n",
              "max         1.000000       1.000000       1.000000       1.000000   \n",
              "\n",
              "              0.00.7         0.00.8           0.05         0.00.9  \n",
              "count  125972.000000  125972.000000  125972.000000  125972.000000  \n",
              "mean        0.284455       0.278487       0.118832       0.120241  \n",
              "std         0.444785       0.445670       0.306559       0.319460  \n",
              "min         0.000000       0.000000       0.000000       0.000000  \n",
              "25%         0.000000       0.000000       0.000000       0.000000  \n",
              "50%         0.000000       0.000000       0.000000       0.000000  \n",
              "75%         1.000000       1.000000       0.000000       0.000000  \n",
              "max         1.000000       1.000000       1.000000       1.000000  \n",
              "\n",
              "[8 rows x 38 columns]"
            ],
            "text/html": [
              "\n",
              "  <div id=\"df-03e90cc5-9a98-491a-b6c9-fe8f9e71fefe\">\n",
              "    <div class=\"colab-df-container\">\n",
              "      <div>\n",
              "<style scoped>\n",
              "    .dataframe tbody tr th:only-of-type {\n",
              "        vertical-align: middle;\n",
              "    }\n",
              "\n",
              "    .dataframe tbody tr th {\n",
              "        vertical-align: top;\n",
              "    }\n",
              "\n",
              "    .dataframe thead th {\n",
              "        text-align: right;\n",
              "    }\n",
              "</style>\n",
              "<table border=\"1\" class=\"dataframe\">\n",
              "  <thead>\n",
              "    <tr style=\"text-align: right;\">\n",
              "      <th></th>\n",
              "      <th>0</th>\n",
              "      <th>491</th>\n",
              "      <th>0.1</th>\n",
              "      <th>0.2</th>\n",
              "      <th>0.3</th>\n",
              "      <th>0.4</th>\n",
              "      <th>0.5</th>\n",
              "      <th>0.6</th>\n",
              "      <th>0.7</th>\n",
              "      <th>0.8</th>\n",
              "      <th>...</th>\n",
              "      <th>150</th>\n",
              "      <th>25</th>\n",
              "      <th>0.17.1</th>\n",
              "      <th>0.03</th>\n",
              "      <th>0.17.2</th>\n",
              "      <th>0.00.6</th>\n",
              "      <th>0.00.7</th>\n",
              "      <th>0.00.8</th>\n",
              "      <th>0.05</th>\n",
              "      <th>0.00.9</th>\n",
              "    </tr>\n",
              "  </thead>\n",
              "  <tbody>\n",
              "    <tr>\n",
              "      <th>count</th>\n",
              "      <td>125972.000000</td>\n",
              "      <td>1.259720e+05</td>\n",
              "      <td>1.259720e+05</td>\n",
              "      <td>125972.000000</td>\n",
              "      <td>125972.000000</td>\n",
              "      <td>125972.000000</td>\n",
              "      <td>125972.000000</td>\n",
              "      <td>125972.000000</td>\n",
              "      <td>125972.000000</td>\n",
              "      <td>125972.000000</td>\n",
              "      <td>...</td>\n",
              "      <td>125972.000000</td>\n",
              "      <td>125972.000000</td>\n",
              "      <td>125972.000000</td>\n",
              "      <td>125972.000000</td>\n",
              "      <td>125972.000000</td>\n",
              "      <td>125972.000000</td>\n",
              "      <td>125972.000000</td>\n",
              "      <td>125972.000000</td>\n",
              "      <td>125972.000000</td>\n",
              "      <td>125972.000000</td>\n",
              "    </tr>\n",
              "    <tr>\n",
              "      <th>mean</th>\n",
              "      <td>287.146929</td>\n",
              "      <td>4.556710e+04</td>\n",
              "      <td>1.977927e+04</td>\n",
              "      <td>0.000198</td>\n",
              "      <td>0.022688</td>\n",
              "      <td>0.000111</td>\n",
              "      <td>0.204411</td>\n",
              "      <td>0.001222</td>\n",
              "      <td>0.395739</td>\n",
              "      <td>0.279253</td>\n",
              "      <td>...</td>\n",
              "      <td>182.149200</td>\n",
              "      <td>115.653725</td>\n",
              "      <td>0.521244</td>\n",
              "      <td>0.082952</td>\n",
              "      <td>0.148379</td>\n",
              "      <td>0.032543</td>\n",
              "      <td>0.284455</td>\n",
              "      <td>0.278487</td>\n",
              "      <td>0.118832</td>\n",
              "      <td>0.120241</td>\n",
              "    </tr>\n",
              "    <tr>\n",
              "      <th>std</th>\n",
              "      <td>2604.525522</td>\n",
              "      <td>5.870354e+06</td>\n",
              "      <td>4.021285e+06</td>\n",
              "      <td>0.014086</td>\n",
              "      <td>0.253531</td>\n",
              "      <td>0.014366</td>\n",
              "      <td>2.149977</td>\n",
              "      <td>0.045239</td>\n",
              "      <td>0.489011</td>\n",
              "      <td>23.942137</td>\n",
              "      <td>...</td>\n",
              "      <td>99.206565</td>\n",
              "      <td>110.702886</td>\n",
              "      <td>0.448950</td>\n",
              "      <td>0.188922</td>\n",
              "      <td>0.308998</td>\n",
              "      <td>0.112564</td>\n",
              "      <td>0.444785</td>\n",
              "      <td>0.445670</td>\n",
              "      <td>0.306559</td>\n",
              "      <td>0.319460</td>\n",
              "    </tr>\n",
              "    <tr>\n",
              "      <th>min</th>\n",
              "      <td>0.000000</td>\n",
              "      <td>0.000000e+00</td>\n",
              "      <td>0.000000e+00</td>\n",
              "      <td>0.000000</td>\n",
              "      <td>0.000000</td>\n",
              "      <td>0.000000</td>\n",
              "      <td>0.000000</td>\n",
              "      <td>0.000000</td>\n",
              "      <td>0.000000</td>\n",
              "      <td>0.000000</td>\n",
              "      <td>...</td>\n",
              "      <td>0.000000</td>\n",
              "      <td>0.000000</td>\n",
              "      <td>0.000000</td>\n",
              "      <td>0.000000</td>\n",
              "      <td>0.000000</td>\n",
              "      <td>0.000000</td>\n",
              "      <td>0.000000</td>\n",
              "      <td>0.000000</td>\n",
              "      <td>0.000000</td>\n",
              "      <td>0.000000</td>\n",
              "    </tr>\n",
              "    <tr>\n",
              "      <th>25%</th>\n",
              "      <td>0.000000</td>\n",
              "      <td>0.000000e+00</td>\n",
              "      <td>0.000000e+00</td>\n",
              "      <td>0.000000</td>\n",
              "      <td>0.000000</td>\n",
              "      <td>0.000000</td>\n",
              "      <td>0.000000</td>\n",
              "      <td>0.000000</td>\n",
              "      <td>0.000000</td>\n",
              "      <td>0.000000</td>\n",
              "      <td>...</td>\n",
              "      <td>82.000000</td>\n",
              "      <td>10.000000</td>\n",
              "      <td>0.050000</td>\n",
              "      <td>0.000000</td>\n",
              "      <td>0.000000</td>\n",
              "      <td>0.000000</td>\n",
              "      <td>0.000000</td>\n",
              "      <td>0.000000</td>\n",
              "      <td>0.000000</td>\n",
              "      <td>0.000000</td>\n",
              "    </tr>\n",
              "    <tr>\n",
              "      <th>50%</th>\n",
              "      <td>0.000000</td>\n",
              "      <td>4.400000e+01</td>\n",
              "      <td>0.000000e+00</td>\n",
              "      <td>0.000000</td>\n",
              "      <td>0.000000</td>\n",
              "      <td>0.000000</td>\n",
              "      <td>0.000000</td>\n",
              "      <td>0.000000</td>\n",
              "      <td>0.000000</td>\n",
              "      <td>0.000000</td>\n",
              "      <td>...</td>\n",
              "      <td>255.000000</td>\n",
              "      <td>63.000000</td>\n",
              "      <td>0.510000</td>\n",
              "      <td>0.020000</td>\n",
              "      <td>0.000000</td>\n",
              "      <td>0.000000</td>\n",
              "      <td>0.000000</td>\n",
              "      <td>0.000000</td>\n",
              "      <td>0.000000</td>\n",
              "      <td>0.000000</td>\n",
              "    </tr>\n",
              "    <tr>\n",
              "      <th>75%</th>\n",
              "      <td>0.000000</td>\n",
              "      <td>2.760000e+02</td>\n",
              "      <td>5.160000e+02</td>\n",
              "      <td>0.000000</td>\n",
              "      <td>0.000000</td>\n",
              "      <td>0.000000</td>\n",
              "      <td>0.000000</td>\n",
              "      <td>0.000000</td>\n",
              "      <td>1.000000</td>\n",
              "      <td>0.000000</td>\n",
              "      <td>...</td>\n",
              "      <td>255.000000</td>\n",
              "      <td>255.000000</td>\n",
              "      <td>1.000000</td>\n",
              "      <td>0.070000</td>\n",
              "      <td>0.060000</td>\n",
              "      <td>0.020000</td>\n",
              "      <td>1.000000</td>\n",
              "      <td>1.000000</td>\n",
              "      <td>0.000000</td>\n",
              "      <td>0.000000</td>\n",
              "    </tr>\n",
              "    <tr>\n",
              "      <th>max</th>\n",
              "      <td>42908.000000</td>\n",
              "      <td>1.379964e+09</td>\n",
              "      <td>1.309937e+09</td>\n",
              "      <td>1.000000</td>\n",
              "      <td>3.000000</td>\n",
              "      <td>3.000000</td>\n",
              "      <td>77.000000</td>\n",
              "      <td>5.000000</td>\n",
              "      <td>1.000000</td>\n",
              "      <td>7479.000000</td>\n",
              "      <td>...</td>\n",
              "      <td>255.000000</td>\n",
              "      <td>255.000000</td>\n",
              "      <td>1.000000</td>\n",
              "      <td>1.000000</td>\n",
              "      <td>1.000000</td>\n",
              "      <td>1.000000</td>\n",
              "      <td>1.000000</td>\n",
              "      <td>1.000000</td>\n",
              "      <td>1.000000</td>\n",
              "      <td>1.000000</td>\n",
              "    </tr>\n",
              "  </tbody>\n",
              "</table>\n",
              "<p>8 rows × 38 columns</p>\n",
              "</div>\n",
              "      <button class=\"colab-df-convert\" onclick=\"convertToInteractive('df-03e90cc5-9a98-491a-b6c9-fe8f9e71fefe')\"\n",
              "              title=\"Convert this dataframe to an interactive table.\"\n",
              "              style=\"display:none;\">\n",
              "        \n",
              "  <svg xmlns=\"http://www.w3.org/2000/svg\" height=\"24px\"viewBox=\"0 0 24 24\"\n",
              "       width=\"24px\">\n",
              "    <path d=\"M0 0h24v24H0V0z\" fill=\"none\"/>\n",
              "    <path d=\"M18.56 5.44l.94 2.06.94-2.06 2.06-.94-2.06-.94-.94-2.06-.94 2.06-2.06.94zm-11 1L8.5 8.5l.94-2.06 2.06-.94-2.06-.94L8.5 2.5l-.94 2.06-2.06.94zm10 10l.94 2.06.94-2.06 2.06-.94-2.06-.94-.94-2.06-.94 2.06-2.06.94z\"/><path d=\"M17.41 7.96l-1.37-1.37c-.4-.4-.92-.59-1.43-.59-.52 0-1.04.2-1.43.59L10.3 9.45l-7.72 7.72c-.78.78-.78 2.05 0 2.83L4 21.41c.39.39.9.59 1.41.59.51 0 1.02-.2 1.41-.59l7.78-7.78 2.81-2.81c.8-.78.8-2.07 0-2.86zM5.41 20L4 18.59l7.72-7.72 1.47 1.35L5.41 20z\"/>\n",
              "  </svg>\n",
              "      </button>\n",
              "      \n",
              "  <style>\n",
              "    .colab-df-container {\n",
              "      display:flex;\n",
              "      flex-wrap:wrap;\n",
              "      gap: 12px;\n",
              "    }\n",
              "\n",
              "    .colab-df-convert {\n",
              "      background-color: #E8F0FE;\n",
              "      border: none;\n",
              "      border-radius: 50%;\n",
              "      cursor: pointer;\n",
              "      display: none;\n",
              "      fill: #1967D2;\n",
              "      height: 32px;\n",
              "      padding: 0 0 0 0;\n",
              "      width: 32px;\n",
              "    }\n",
              "\n",
              "    .colab-df-convert:hover {\n",
              "      background-color: #E2EBFA;\n",
              "      box-shadow: 0px 1px 2px rgba(60, 64, 67, 0.3), 0px 1px 3px 1px rgba(60, 64, 67, 0.15);\n",
              "      fill: #174EA6;\n",
              "    }\n",
              "\n",
              "    [theme=dark] .colab-df-convert {\n",
              "      background-color: #3B4455;\n",
              "      fill: #D2E3FC;\n",
              "    }\n",
              "\n",
              "    [theme=dark] .colab-df-convert:hover {\n",
              "      background-color: #434B5C;\n",
              "      box-shadow: 0px 1px 3px 1px rgba(0, 0, 0, 0.15);\n",
              "      filter: drop-shadow(0px 1px 2px rgba(0, 0, 0, 0.3));\n",
              "      fill: #FFFFFF;\n",
              "    }\n",
              "  </style>\n",
              "\n",
              "      <script>\n",
              "        const buttonEl =\n",
              "          document.querySelector('#df-03e90cc5-9a98-491a-b6c9-fe8f9e71fefe button.colab-df-convert');\n",
              "        buttonEl.style.display =\n",
              "          google.colab.kernel.accessAllowed ? 'block' : 'none';\n",
              "\n",
              "        async function convertToInteractive(key) {\n",
              "          const element = document.querySelector('#df-03e90cc5-9a98-491a-b6c9-fe8f9e71fefe');\n",
              "          const dataTable =\n",
              "            await google.colab.kernel.invokeFunction('convertToInteractive',\n",
              "                                                     [key], {});\n",
              "          if (!dataTable) return;\n",
              "\n",
              "          const docLinkHtml = 'Like what you see? Visit the ' +\n",
              "            '<a target=\"_blank\" href=https://colab.research.google.com/notebooks/data_table.ipynb>data table notebook</a>'\n",
              "            + ' to learn more about interactive tables.';\n",
              "          element.innerHTML = '';\n",
              "          dataTable['output_type'] = 'display_data';\n",
              "          await google.colab.output.renderOutput(dataTable, element);\n",
              "          const docLink = document.createElement('div');\n",
              "          docLink.innerHTML = docLinkHtml;\n",
              "          element.appendChild(docLink);\n",
              "        }\n",
              "      </script>\n",
              "    </div>\n",
              "  </div>\n",
              "  "
            ]
          },
          "metadata": {},
          "execution_count": 7
        }
      ]
    },
    {
      "cell_type": "markdown",
      "source": [
        "Convert the problem from multi-class classification to binary classification\n",
        "* We assume that all the other anomaly categories are under the category `abnormal`\n",
        "* In result, we have only two categories.\n",
        "  * `normal`\n",
        "  * `abnormal`"
      ],
      "metadata": {
        "id": "1dedpdywUJKA"
      }
    },
    {
      "cell_type": "code",
      "source": [
        "mask = (y_train != \"normal\")\n",
        "y_train.loc[mask] = \"abnromal\"\n",
        "y_train"
      ],
      "metadata": {
        "colab": {
          "base_uri": "https://localhost:8080/"
        },
        "id": "NXmbxYZYQNLt",
        "outputId": "45b78c21-8b8f-4ea8-950f-d68b9a072eba"
      },
      "execution_count": null,
      "outputs": [
        {
          "output_type": "stream",
          "name": "stderr",
          "text": [
            "/usr/local/lib/python3.7/dist-packages/pandas/core/indexing.py:1732: SettingWithCopyWarning: \n",
            "A value is trying to be set on a copy of a slice from a DataFrame\n",
            "\n",
            "See the caveats in the documentation: https://pandas.pydata.org/pandas-docs/stable/user_guide/indexing.html#returning-a-view-versus-a-copy\n",
            "  self._setitem_single_block(indexer, value, name)\n"
          ]
        },
        {
          "output_type": "execute_result",
          "data": {
            "text/plain": [
              "0           normal\n",
              "1         abnromal\n",
              "2           normal\n",
              "3           normal\n",
              "4         abnromal\n",
              "            ...   \n",
              "125967    abnromal\n",
              "125968      normal\n",
              "125969      normal\n",
              "125970    abnromal\n",
              "125971      normal\n",
              "Name: normal, Length: 125972, dtype: object"
            ]
          },
          "metadata": {},
          "execution_count": 8
        }
      ]
    },
    {
      "cell_type": "code",
      "source": [
        "assert y_train.unique().size==2, \"y should have only 2 categories\"\n",
        "y_train.unique()"
      ],
      "metadata": {
        "colab": {
          "base_uri": "https://localhost:8080/"
        },
        "id": "HSvIFsTzJE9w",
        "outputId": "69f01ee0-3c75-4089-da0f-232959b88a0e"
      },
      "execution_count": null,
      "outputs": [
        {
          "output_type": "execute_result",
          "data": {
            "text/plain": [
              "array(['normal', 'abnromal'], dtype=object)"
            ]
          },
          "metadata": {},
          "execution_count": 9
        }
      ]
    },
    {
      "cell_type": "markdown",
      "source": [
        "## preprocessing\n",
        "\n",
        "\n",
        "\n"
      ],
      "metadata": {
        "id": "h0k1kl4264Qx"
      }
    },
    {
      "cell_type": "markdown",
      "source": [
        "The whole pipeline"
      ],
      "metadata": {
        "id": "ce7WRuL9VyD3"
      }
    },
    {
      "cell_type": "code",
      "source": [
        "def fit_transformers(X_train = X_train, y_train = y_train):\n",
        "  ct = ColumnTransformer(transformers=[('encoder', OneHotEncoder(), slice(1,4))],remainder= 'passthrough')\n",
        "  ct.fit(X_train)\n",
        "\n",
        "  X_encoded = ct.transform(X_train)\n",
        "\n",
        "  le = LabelEncoder()\n",
        "  le.fit(y_train)\n",
        "\n",
        "  sc = RobustScaler()\n",
        "  sc.fit(X_encoded)\n",
        "\n",
        "  return ct, le, sc\n",
        "\n",
        "ct, le, sc = fit_transformers()\n",
        "\n",
        "def preprocess(x, y, ct = ct, le = le, sc = sc):\n",
        "\n",
        "  # It is better to pass the transformers and all other preprocessing methods\n",
        "\n",
        "\n",
        "  # ct = ColumnTransformer(transformers=[('encoder', OneHotEncoder(), slice(1,4))],remainder= 'passthrough')\n",
        "  x_encoded = ct.fit_transform(x)\n",
        "\n",
        "  print(\"input values of categorical features\")\n",
        "  print([f for f in ct.named_transformers_['encoder'].categories_])\n",
        "\n",
        "  # print(np.sum([len(f) for f in ct.named_transformers_['encoder1'].categories_]))\n",
        "\n",
        "\n",
        "  # le = LabelEncoder()\n",
        "  y_encoded = le.fit_transform(y)\n",
        "\n",
        "  # sc = RobustScaler()\n",
        "  x_scaled = sc.fit_transform(x_encoded)\n",
        "\n",
        "  # We do not need scaling for labels' column\n",
        "  y_scaled = y_encoded\n",
        "\n",
        "  return x_encoded, x_scaled, y_scaled\n"
      ],
      "metadata": {
        "id": "zmRKkkuwV02E"
      },
      "execution_count": null,
      "outputs": []
    },
    {
      "cell_type": "markdown",
      "source": [
        "Encoding X_train categroical features"
      ],
      "metadata": {
        "id": "zPDsYtTzTzsI"
      }
    },
    {
      "cell_type": "code",
      "source": [
        "X_train_encoded, X_train_scaled, y_train_encoded = preprocess(X_train, y_train)"
      ],
      "metadata": {
        "id": "AgHs2K1v6Hmv",
        "colab": {
          "base_uri": "https://localhost:8080/"
        },
        "outputId": "b08c056a-bfa2-4684-c4ef-ed91ae97767a"
      },
      "execution_count": null,
      "outputs": [
        {
          "output_type": "stream",
          "name": "stdout",
          "text": [
            "input values of categorical features\n",
            "[array(['icmp', 'tcp', 'udp'], dtype=object), array(['IRC', 'X11', 'Z39_50', 'aol', 'auth', 'bgp', 'courier',\n",
            "       'csnet_ns', 'ctf', 'daytime', 'discard', 'domain', 'domain_u',\n",
            "       'echo', 'eco_i', 'ecr_i', 'efs', 'exec', 'finger', 'ftp',\n",
            "       'ftp_data', 'gopher', 'harvest', 'hostnames', 'http', 'http_2784',\n",
            "       'http_443', 'http_8001', 'imap4', 'iso_tsap', 'klogin', 'kshell',\n",
            "       'ldap', 'link', 'login', 'mtp', 'name', 'netbios_dgm',\n",
            "       'netbios_ns', 'netbios_ssn', 'netstat', 'nnsp', 'nntp', 'ntp_u',\n",
            "       'other', 'pm_dump', 'pop_2', 'pop_3', 'printer', 'private',\n",
            "       'red_i', 'remote_job', 'rje', 'shell', 'smtp', 'sql_net', 'ssh',\n",
            "       'sunrpc', 'supdup', 'systat', 'telnet', 'tftp_u', 'tim_i', 'time',\n",
            "       'urh_i', 'urp_i', 'uucp', 'uucp_path', 'vmnet', 'whois'],\n",
            "      dtype=object), array(['OTH', 'REJ', 'RSTO', 'RSTOS0', 'RSTR', 'S0', 'S1', 'S2', 'S3',\n",
            "       'SF', 'SH'], dtype=object)]\n"
          ]
        }
      ]
    },
    {
      "cell_type": "code",
      "source": [
        "X_train.shape, X_train_encoded.shape"
      ],
      "metadata": {
        "colab": {
          "base_uri": "https://localhost:8080/"
        },
        "id": "biwPgZFmTuh8",
        "outputId": "e1c5f0b4-3e44-425b-f8b9-8af43e724810"
      },
      "execution_count": null,
      "outputs": [
        {
          "output_type": "execute_result",
          "data": {
            "text/plain": [
              "((125972, 41), (125972, 122))"
            ]
          },
          "metadata": {},
          "execution_count": 69
        }
      ]
    },
    {
      "cell_type": "markdown",
      "source": [
        "Encoding the labels "
      ],
      "metadata": {
        "id": "SJ_WjrFIT2-W"
      }
    },
    {
      "cell_type": "code",
      "source": [
        "y_train_encoded, np.array(y_train)"
      ],
      "metadata": {
        "colab": {
          "base_uri": "https://localhost:8080/"
        },
        "id": "5rDlAF-lS1AE",
        "outputId": "3f6f6f40-905a-414d-bf28-e9849bc09486"
      },
      "execution_count": null,
      "outputs": [
        {
          "output_type": "execute_result",
          "data": {
            "text/plain": [
              "(array([1, 0, 1, ..., 1, 0, 1]),\n",
              " array(['normal', 'abnromal', 'normal', ..., 'normal', 'abnromal',\n",
              "        'normal'], dtype=object))"
            ]
          },
          "metadata": {},
          "execution_count": 72
        }
      ]
    },
    {
      "cell_type": "markdown",
      "source": [
        "Scaling the data"
      ],
      "metadata": {
        "id": "iKk-Hv0Tc3Td"
      }
    },
    {
      "cell_type": "code",
      "source": [
        "X_train_scaled"
      ],
      "metadata": {
        "id": "X8QkCzTM6QUI",
        "colab": {
          "base_uri": "https://localhost:8080/"
        },
        "outputId": "e03d9378-4ca7-43dc-b4d7-45a00fe802ad"
      },
      "execution_count": null,
      "outputs": [
        {
          "output_type": "execute_result",
          "data": {
            "text/plain": [
              "array([[ 0.  , -1.  ,  1.  , ...,  0.  ,  0.  ,  0.  ],\n",
              "       [ 0.  ,  0.  ,  0.  , ...,  1.  ,  0.  ,  0.  ],\n",
              "       [ 0.  ,  0.  ,  0.  , ...,  0.01,  0.  ,  0.01],\n",
              "       ...,\n",
              "       [ 0.  ,  0.  ,  0.  , ...,  0.  ,  0.01,  0.  ],\n",
              "       [ 0.  ,  0.  ,  0.  , ...,  1.  ,  0.  ,  0.  ],\n",
              "       [ 0.  ,  0.  ,  0.  , ...,  0.  ,  0.  ,  0.  ]])"
            ]
          },
          "metadata": {},
          "execution_count": 77
        }
      ]
    },
    {
      "cell_type": "markdown",
      "source": [
        "# Model"
      ],
      "metadata": {
        "id": "IT_DR7hGam8I"
      }
    },
    {
      "cell_type": "markdown",
      "source": [
        "## Settings"
      ],
      "metadata": {
        "id": "oihOHth8aujZ"
      }
    },
    {
      "cell_type": "code",
      "source": [
        ""
      ],
      "metadata": {
        "id": "TFvueYX5axOr"
      },
      "execution_count": null,
      "outputs": []
    },
    {
      "cell_type": "markdown",
      "source": [
        "## Logistic Regression"
      ],
      "metadata": {
        "id": "H63qIMjBao23"
      }
    },
    {
      "cell_type": "code",
      "source": [
        ""
      ],
      "metadata": {
        "id": "31Cpt01janpG"
      },
      "execution_count": null,
      "outputs": []
    },
    {
      "cell_type": "markdown",
      "source": [
        "## Decision Trees"
      ],
      "metadata": {
        "id": "Imh8mEWwards"
      }
    },
    {
      "cell_type": "markdown",
      "source": [
        "# Prediction"
      ],
      "metadata": {
        "id": "k-sBkhD_a4Dp"
      }
    },
    {
      "cell_type": "code",
      "source": [
        "X_test_encoded, X_test_scaled, y_test_encoded = preprocess(X_test, y_test)"
      ],
      "metadata": {
        "colab": {
          "base_uri": "https://localhost:8080/"
        },
        "id": "99AXE1Cda5zI",
        "outputId": "7e625f05-6128-4228-ad3f-aad76407b03d"
      },
      "execution_count": null,
      "outputs": [
        {
          "output_type": "stream",
          "name": "stdout",
          "text": [
            "input values of categorical features\n",
            "[array(['icmp', 'tcp', 'udp'], dtype=object), array(['IRC', 'X11', 'Z39_50', 'auth', 'bgp', 'courier', 'csnet_ns',\n",
            "       'ctf', 'daytime', 'discard', 'domain', 'domain_u', 'echo', 'eco_i',\n",
            "       'ecr_i', 'efs', 'exec', 'finger', 'ftp', 'ftp_data', 'gopher',\n",
            "       'hostnames', 'http', 'http_443', 'imap4', 'iso_tsap', 'klogin',\n",
            "       'kshell', 'ldap', 'link', 'login', 'mtp', 'name', 'netbios_dgm',\n",
            "       'netbios_ns', 'netbios_ssn', 'netstat', 'nnsp', 'nntp', 'ntp_u',\n",
            "       'other', 'pm_dump', 'pop_2', 'pop_3', 'printer', 'private',\n",
            "       'remote_job', 'rje', 'shell', 'smtp', 'sql_net', 'ssh', 'sunrpc',\n",
            "       'supdup', 'systat', 'telnet', 'tftp_u', 'tim_i', 'time', 'urp_i',\n",
            "       'uucp', 'uucp_path', 'vmnet', 'whois'], dtype=object), array(['OTH', 'REJ', 'RSTO', 'RSTOS0', 'RSTR', 'S0', 'S1', 'S2', 'S3',\n",
            "       'SF', 'SH'], dtype=object)]\n"
          ]
        }
      ]
    },
    {
      "cell_type": "code",
      "source": [
        "X_test_scaled"
      ],
      "metadata": {
        "colab": {
          "base_uri": "https://localhost:8080/"
        },
        "id": "cIgvQHXXbOxd",
        "outputId": "9e4e1db8-dcae-480e-e767-15230089f721"
      },
      "execution_count": null,
      "outputs": [
        {
          "output_type": "execute_result",
          "data": {
            "text/plain": [
              "array([[ 0.        ,  0.        ,  0.        , ...,  0.        ,\n",
              "         2.77777778,  5.88235294],\n",
              "       [ 0.        ,  0.        ,  0.        , ...,  0.        ,\n",
              "         0.        ,  0.        ],\n",
              "       [ 1.        , -1.        ,  0.        , ...,  0.        ,\n",
              "         0.        ,  0.        ],\n",
              "       ...,\n",
              "       [ 0.        ,  0.        ,  0.        , ...,  0.        ,\n",
              "         0.19444444,  0.41176471],\n",
              "       [ 0.        , -1.        ,  1.        , ...,  0.        ,\n",
              "         0.        ,  0.        ],\n",
              "       [ 0.        ,  0.        ,  0.        , ...,  0.        ,\n",
              "         1.22222222,  5.88235294]])"
            ]
          },
          "metadata": {},
          "execution_count": 87
        }
      ]
    }
  ]
}